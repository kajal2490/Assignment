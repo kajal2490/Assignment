{
 "cells": [
  {
   "cell_type": "code",
   "execution_count": 20,
   "metadata": {},
   "outputs": [
    {
     "name": "stdout",
     "output_type": "stream",
     "text": [
      "Data saved to stories.json file.\n"
     ]
    }
   ],
   "source": [
    "import requests\n",
    "import re\n",
    "import urllib3\n",
    "import json\n",
    "\n",
    "# Disable SSL certificate verification warning\n",
    "urllib3.disable_warnings(urllib3.exceptions.InsecureRequestWarning)\n",
    "\n",
    "# Send an HTTP GET request to times.com\n",
    "response = requests.get('https://times.com', verify=False)\n",
    "\n",
    "# Check if the request was successful\n",
    "if response.status_code == 200:\n",
    "    # Extract the HTML content\n",
    "    html_content = response.text\n",
    "\n",
    "    # Define the pattern to match the story titles and links\n",
    "    pattern_section = r'<section class=\"homepage-section-v2 voices-ls\">.*?<\\/section>'\n",
    "\n",
    "    # Find the \"latest stories\" section using the pattern\n",
    "    matches_section = re.findall(pattern_section, html_content, re.DOTALL)\n",
    "\n",
    "    if matches_section:\n",
    "        section_content = matches_section[0]\n",
    "\n",
    "        # Define the pattern to match the story elements within the section\n",
    "        pattern_story = r'<div class=\"partial lastest-stories\">.*?<h2 class=\"lastest-stories__heading\">(.*?)<\\/h2>.*?<a href=\"(.*?)\">.*?<\\/a>.*?<\\/div>'\n",
    "\n",
    "        # Find all the story matches within the section content\n",
    "        matches_story = re.findall(pattern_story, section_content, re.DOTALL)\n",
    "\n",
    "        # Process the story matches to extract the title and link\n",
    "        stories = []\n",
    "        for match in matches_story:\n",
    "            title = match[0].strip()\n",
    "            link = match[1]\n",
    "            story = {'title': title, 'link': link}\n",
    "            stories.append(story)\n",
    "\n",
    "        \n",
    "        # Save the data to a JSON file\n",
    "        with open('stories.json', 'w') as file:\n",
    "            json.dump(latest_stories, file, indent=4)\n",
    "\n",
    "    \n",
    "    print(\"Data saved to stories.json file.\")\n",
    "else:\n",
    "    print('Error: Failed to retrieve the website content')\n"
   ]
  }
 ],
 "metadata": {
  "kernelspec": {
   "display_name": "Python 3",
   "language": "python",
   "name": "python3"
  },
  "language_info": {
   "codemirror_mode": {
    "name": "ipython",
    "version": 3
   },
   "file_extension": ".py",
   "mimetype": "text/x-python",
   "name": "python",
   "nbconvert_exporter": "python",
   "pygments_lexer": "ipython3",
   "version": "3.7.6"
  }
 },
 "nbformat": 4,
 "nbformat_minor": 4
}
